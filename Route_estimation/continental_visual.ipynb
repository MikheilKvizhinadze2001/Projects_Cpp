{
 "cells": [
  {
   "cell_type": "code",
   "execution_count": 18,
   "id": "4a463e86-2107-46dd-a782-f5c47f840f0c",
   "metadata": {},
   "outputs": [],
   "source": [
    "import folium \n",
    "import pandas as pd\n",
    "import matplotlib.pyplot as plt\n",
    "\n",
    "# Read the data\n",
    "df = pd.read_csv('C:/Users/mikhe/OneDrive/Desktop/job_shop/cmake-build-debug/output.csv')\n",
    "df1 = pd.read_csv('C:/Users/mikhe/OneDrive/Desktop/job_shop/cmake-build-debug/special_values.csv')"
   ]
  },
  {
   "cell_type": "code",
   "execution_count": 2,
   "id": "7fa1e8b1-ee08-4b92-9213-ea847e0cef63",
   "metadata": {},
   "outputs": [
    {
     "data": {
      "text/html": [
       "<div>\n",
       "<style scoped>\n",
       "    .dataframe tbody tr th:only-of-type {\n",
       "        vertical-align: middle;\n",
       "    }\n",
       "\n",
       "    .dataframe tbody tr th {\n",
       "        vertical-align: top;\n",
       "    }\n",
       "\n",
       "    .dataframe thead th {\n",
       "        text-align: right;\n",
       "    }\n",
       "</style>\n",
       "<table border=\"1\" class=\"dataframe\">\n",
       "  <thead>\n",
       "    <tr style=\"text-align: right;\">\n",
       "      <th></th>\n",
       "      <th>ego_lat</th>\n",
       "      <th>ego_lng</th>\n",
       "      <th>a1_lat</th>\n",
       "      <th>a1_lng</th>\n",
       "      <th>a2_lat</th>\n",
       "      <th>a2_lng</th>\n",
       "      <th>f_c</th>\n",
       "      <th>f_1</th>\n",
       "      <th>f_2</th>\n",
       "      <th>dist_to_dest</th>\n",
       "      <th>dist_to_c</th>\n",
       "      <th>dist_to_a1</th>\n",
       "      <th>dist_to_a2</th>\n",
       "    </tr>\n",
       "  </thead>\n",
       "  <tbody>\n",
       "    <tr>\n",
       "      <th>0</th>\n",
       "      <td>44.0768</td>\n",
       "      <td>-103.215</td>\n",
       "      <td>44.2627</td>\n",
       "      <td>-105.523</td>\n",
       "      <td>43.6651</td>\n",
       "      <td>-116.739</td>\n",
       "      <td>0.0</td>\n",
       "      <td>18461400.0</td>\n",
       "      <td>0.0</td>\n",
       "      <td>1083.87</td>\n",
       "      <td>430.354</td>\n",
       "      <td>185.207</td>\n",
       "      <td>1083.87</td>\n",
       "    </tr>\n",
       "    <tr>\n",
       "      <th>1</th>\n",
       "      <td>44.0767</td>\n",
       "      <td>-103.215</td>\n",
       "      <td>44.2627</td>\n",
       "      <td>-105.522</td>\n",
       "      <td>43.6651</td>\n",
       "      <td>-116.739</td>\n",
       "      <td>0.0</td>\n",
       "      <td>18461200.0</td>\n",
       "      <td>0.0</td>\n",
       "      <td>1083.89</td>\n",
       "      <td>430.367</td>\n",
       "      <td>185.208</td>\n",
       "      <td>1083.89</td>\n",
       "    </tr>\n",
       "    <tr>\n",
       "      <th>2</th>\n",
       "      <td>44.0767</td>\n",
       "      <td>-103.214</td>\n",
       "      <td>44.2629</td>\n",
       "      <td>-105.522</td>\n",
       "      <td>43.6651</td>\n",
       "      <td>-116.739</td>\n",
       "      <td>0.0</td>\n",
       "      <td>18460400.0</td>\n",
       "      <td>0.0</td>\n",
       "      <td>1083.90</td>\n",
       "      <td>430.378</td>\n",
       "      <td>185.212</td>\n",
       "      <td>1083.90</td>\n",
       "    </tr>\n",
       "    <tr>\n",
       "      <th>3</th>\n",
       "      <td>44.0767</td>\n",
       "      <td>-103.214</td>\n",
       "      <td>44.2630</td>\n",
       "      <td>-105.522</td>\n",
       "      <td>43.6652</td>\n",
       "      <td>-116.739</td>\n",
       "      <td>0.0</td>\n",
       "      <td>18458500.0</td>\n",
       "      <td>0.0</td>\n",
       "      <td>1083.90</td>\n",
       "      <td>430.377</td>\n",
       "      <td>185.222</td>\n",
       "      <td>1083.90</td>\n",
       "    </tr>\n",
       "    <tr>\n",
       "      <th>4</th>\n",
       "      <td>44.0769</td>\n",
       "      <td>-103.214</td>\n",
       "      <td>44.2632</td>\n",
       "      <td>-105.522</td>\n",
       "      <td>43.6652</td>\n",
       "      <td>-116.739</td>\n",
       "      <td>0.0</td>\n",
       "      <td>18457800.0</td>\n",
       "      <td>0.0</td>\n",
       "      <td>1083.91</td>\n",
       "      <td>430.395</td>\n",
       "      <td>185.225</td>\n",
       "      <td>1083.91</td>\n",
       "    </tr>\n",
       "  </tbody>\n",
       "</table>\n",
       "</div>"
      ],
      "text/plain": [
       "   ego_lat  ego_lng   a1_lat   a1_lng   a2_lat   a2_lng  f_c         f_1  f_2  \\\n",
       "0  44.0768 -103.215  44.2627 -105.523  43.6651 -116.739  0.0  18461400.0  0.0   \n",
       "1  44.0767 -103.215  44.2627 -105.522  43.6651 -116.739  0.0  18461200.0  0.0   \n",
       "2  44.0767 -103.214  44.2629 -105.522  43.6651 -116.739  0.0  18460400.0  0.0   \n",
       "3  44.0767 -103.214  44.2630 -105.522  43.6652 -116.739  0.0  18458500.0  0.0   \n",
       "4  44.0769 -103.214  44.2632 -105.522  43.6652 -116.739  0.0  18457800.0  0.0   \n",
       "\n",
       "   dist_to_dest  dist_to_c  dist_to_a1  dist_to_a2  \n",
       "0       1083.87    430.354     185.207     1083.87  \n",
       "1       1083.89    430.367     185.208     1083.89  \n",
       "2       1083.90    430.378     185.212     1083.90  \n",
       "3       1083.90    430.377     185.222     1083.90  \n",
       "4       1083.91    430.395     185.225     1083.91  "
      ]
     },
     "execution_count": 2,
     "metadata": {},
     "output_type": "execute_result"
    }
   ],
   "source": [
    "df.head()"
   ]
  },
  {
   "cell_type": "code",
   "execution_count": 3,
   "id": "8bd3048a-ca7b-48e7-8660-0dad9735e20e",
   "metadata": {},
   "outputs": [
    {
     "name": "stdout",
     "output_type": "stream",
     "text": [
      "<class 'pandas.core.frame.DataFrame'>\n",
      "RangeIndex: 111675 entries, 0 to 111674\n",
      "Data columns (total 13 columns):\n",
      " #   Column        Non-Null Count   Dtype  \n",
      "---  ------        --------------   -----  \n",
      " 0   ego_lat       111675 non-null  float64\n",
      " 1   ego_lng       111675 non-null  float64\n",
      " 2   a1_lat        111675 non-null  float64\n",
      " 3   a1_lng        111675 non-null  float64\n",
      " 4   a2_lat        111675 non-null  float64\n",
      " 5   a2_lng        111675 non-null  float64\n",
      " 6   f_c           111675 non-null  float64\n",
      " 7   f_1           111675 non-null  float64\n",
      " 8   f_2           111675 non-null  float64\n",
      " 9   dist_to_dest  111675 non-null  float64\n",
      " 10  dist_to_c     111675 non-null  float64\n",
      " 11  dist_to_a1    111675 non-null  float64\n",
      " 12  dist_to_a2    111675 non-null  float64\n",
      "dtypes: float64(13)\n",
      "memory usage: 11.1 MB\n"
     ]
    }
   ],
   "source": [
    "df.info()"
   ]
  },
  {
   "cell_type": "code",
   "execution_count": 4,
   "id": "041a718b-298c-4db2-93f8-af63dc28913f",
   "metadata": {},
   "outputs": [
    {
     "data": {
      "text/plain": [
       "count    1.116750e+05\n",
       "mean     3.298949e+11\n",
       "std      1.584980e+12\n",
       "min      0.000000e+00\n",
       "25%      0.000000e+00\n",
       "50%      0.000000e+00\n",
       "75%      3.285675e+10\n",
       "max      1.732250e+13\n",
       "Name: f_c, dtype: float64"
      ]
     },
     "execution_count": 4,
     "metadata": {},
     "output_type": "execute_result"
    }
   ],
   "source": [
    "df['f_c'].describe()"
   ]
  },
  {
   "cell_type": "code",
   "execution_count": 5,
   "id": "00b1cb81-979e-4e5d-92c3-f6ba974ef896",
   "metadata": {},
   "outputs": [
    {
     "data": {
      "text/plain": [
       "count    1.116750e+05\n",
       "mean     6.338633e+06\n",
       "std      8.655792e+06\n",
       "min      0.000000e+00\n",
       "25%      0.000000e+00\n",
       "50%      0.000000e+00\n",
       "75%      1.043220e+07\n",
       "max      4.114720e+07\n",
       "Name: f_1, dtype: float64"
      ]
     },
     "execution_count": 5,
     "metadata": {},
     "output_type": "execute_result"
    }
   ],
   "source": [
    "df['f_1'].describe()"
   ]
  },
  {
   "cell_type": "code",
   "execution_count": 6,
   "id": "0b12baeb-423e-4a63-a7fb-3a9263d8e415",
   "metadata": {},
   "outputs": [
    {
     "data": {
      "text/plain": [
       "count    1.116750e+05\n",
       "mean     1.754352e+07\n",
       "std      4.926903e+07\n",
       "min      0.000000e+00\n",
       "25%      0.000000e+00\n",
       "50%      0.000000e+00\n",
       "75%      0.000000e+00\n",
       "max      2.156390e+08\n",
       "Name: f_2, dtype: float64"
      ]
     },
     "execution_count": 6,
     "metadata": {},
     "output_type": "execute_result"
    }
   ],
   "source": [
    "df['f_2'].describe()"
   ]
  },
  {
   "cell_type": "code",
   "execution_count": 7,
   "id": "a0d160e9-4b27-456e-922a-3f37a03af447",
   "metadata": {},
   "outputs": [],
   "source": [
    "# We saved values of functions every second, so, value of entries directly represents number of seconds.\n",
    "# We can use this value to represent time\n",
    "df['time_hours'] = df.index / 3600  "
   ]
  },
  {
   "cell_type": "code",
   "execution_count": 8,
   "id": "4456d8cf-fbe9-4767-af0f-bd6911f16685",
   "metadata": {},
   "outputs": [
    {
     "data": {
      "image/png": "[encoded data removed]",
      "text/plain": [
       "<Figure size 1000x600 with 1 Axes>"
      ]
     },
     "metadata": {},
     "output_type": "display_data"
    }
   ],
   "source": [
    "plt.figure(figsize=(10, 6))\n",
    "plt.plot(df['time_hours'], df['f_c'], label='f_c')  \n",
    "\n",
    "\n",
    "plt.xlabel('Time (hours)') \n",
    "plt.ylabel('Function Value (f_c') \n",
    "plt.title('Function Values over Time (f_c)') \n",
    "plt.legend()\n",
    "plt.grid(True) \n",
    "plt.show()"
   ]
  },
  {
   "cell_type": "code",
   "execution_count": 9,
   "id": "f61e3672-a0d7-457a-9cea-db5db4366921",
   "metadata": {},
   "outputs": [
    {
     "data": {
      "image/png": "[encoded data removed]",
      "text/plain": [
       "<Figure size 1000x600 with 1 Axes>"
      ]
     },
     "metadata": {},
     "output_type": "display_data"
    }
   ],
   "source": [
    "plt.figure(figsize=(10, 6))\n",
    " \n",
    "plt.plot(df['time_hours'], df['f_1'], label='f_1') \n",
    "\n",
    "\n",
    "plt.xlabel('Time (hours)') \n",
    "plt.ylabel('Function Value(f_1)') \n",
    "plt.title('Function Values over Time(f_1)') \n",
    "plt.legend()\n",
    "plt.grid(True) \n",
    "plt.show()"
   ]
  },
  {
   "cell_type": "code",
   "execution_count": 10,
   "id": "f45831e2-5c4d-4b12-b031-9ecbd6ae57d5",
   "metadata": {},
   "outputs": [
    {
     "data": {
      "image/png": "[encoded data removed]",
      "text/plain": [
       "<Figure size 1000x600 with 1 Axes>"
      ]
     },
     "metadata": {},
     "output_type": "display_data"
    }
   ],
   "source": [
    "plt.figure(figsize=(10, 6))\n",
    "plt.plot(df['time_hours'], df['f_2'], label='f_2') \n",
    "\n",
    "plt.xlabel('Time (hours)') \n",
    "plt.ylabel('Function Value(f_2)') \n",
    "plt.title('Function Values over Time(f_2)') \n",
    "plt.legend()\n",
    "plt.grid(True) \n",
    "plt.show()"
   ]
  },
  {
   "cell_type": "code",
   "execution_count": 19,
   "id": "cc4cbc65-133c-437e-8399-bcc58154276f",
   "metadata": {},
   "outputs": [
    {
     "data": {
      "text/html": [
       "<div>\n",
       "<style scoped>\n",
       "    .dataframe tbody tr th:only-of-type {\n",
       "        vertical-align: middle;\n",
       "    }\n",
       "\n",
       "    .dataframe tbody tr th {\n",
       "        vertical-align: top;\n",
       "    }\n",
       "\n",
       "    .dataframe thead th {\n",
       "        text-align: right;\n",
       "    }\n",
       "</style>\n",
       "<table border=\"1\" class=\"dataframe\">\n",
       "  <thead>\n",
       "    <tr style=\"text-align: right;\">\n",
       "      <th></th>\n",
       "      <th>ego_lat</th>\n",
       "      <th>ego_lng</th>\n",
       "      <th>f_c</th>\n",
       "      <th>f_1</th>\n",
       "      <th>f_2</th>\n",
       "      <th>dist_to_dest</th>\n",
       "      <th>dist_to_c</th>\n",
       "      <th>dist_to_a1</th>\n",
       "      <th>dist_to_a2</th>\n",
       "    </tr>\n",
       "  </thead>\n",
       "  <tbody>\n",
       "    <tr>\n",
       "      <th>0</th>\n",
       "      <td>42.8653</td>\n",
       "      <td>-105.695</td>\n",
       "      <td>1.261050e+10</td>\n",
       "      <td>9997050.0</td>\n",
       "      <td>0</td>\n",
       "      <td>898.014</td>\n",
       "      <td>199.935</td>\n",
       "      <td>251.683</td>\n",
       "      <td>915.316</td>\n",
       "    </tr>\n",
       "    <tr>\n",
       "      <th>1</th>\n",
       "      <td>42.8654</td>\n",
       "      <td>-105.696</td>\n",
       "      <td>1.262350e+10</td>\n",
       "      <td>9997750.0</td>\n",
       "      <td>0</td>\n",
       "      <td>897.942</td>\n",
       "      <td>199.867</td>\n",
       "      <td>251.674</td>\n",
       "      <td>915.248</td>\n",
       "    </tr>\n",
       "    <tr>\n",
       "      <th>2</th>\n",
       "      <td>42.8655</td>\n",
       "      <td>-105.697</td>\n",
       "      <td>1.263640e+10</td>\n",
       "      <td>9998450.0</td>\n",
       "      <td>0</td>\n",
       "      <td>897.870</td>\n",
       "      <td>199.798</td>\n",
       "      <td>251.666</td>\n",
       "      <td>915.180</td>\n",
       "    </tr>\n",
       "    <tr>\n",
       "      <th>3</th>\n",
       "      <td>42.8656</td>\n",
       "      <td>-105.697</td>\n",
       "      <td>1.264940e+10</td>\n",
       "      <td>9999150.0</td>\n",
       "      <td>0</td>\n",
       "      <td>897.798</td>\n",
       "      <td>199.730</td>\n",
       "      <td>251.657</td>\n",
       "      <td>915.113</td>\n",
       "    </tr>\n",
       "    <tr>\n",
       "      <th>4</th>\n",
       "      <td>42.8657</td>\n",
       "      <td>-105.698</td>\n",
       "      <td>1.266240e+10</td>\n",
       "      <td>9999850.0</td>\n",
       "      <td>0</td>\n",
       "      <td>897.727</td>\n",
       "      <td>199.662</td>\n",
       "      <td>251.648</td>\n",
       "      <td>915.045</td>\n",
       "    </tr>\n",
       "  </tbody>\n",
       "</table>\n",
       "</div>"
      ],
      "text/plain": [
       "   ego_lat  ego_lng           f_c        f_1  f_2  dist_to_dest  dist_to_c  \\\n",
       "0  42.8653 -105.695  1.261050e+10  9997050.0    0       898.014    199.935   \n",
       "1  42.8654 -105.696  1.262350e+10  9997750.0    0       897.942    199.867   \n",
       "2  42.8655 -105.697  1.263640e+10  9998450.0    0       897.870    199.798   \n",
       "3  42.8656 -105.697  1.264940e+10  9999150.0    0       897.798    199.730   \n",
       "4  42.8657 -105.698  1.266240e+10  9999850.0    0       897.727    199.662   \n",
       "\n",
       "   dist_to_a1  dist_to_a2  \n",
       "0     251.683     915.316  \n",
       "1     251.674     915.248  \n",
       "2     251.666     915.180  \n",
       "3     251.657     915.113  \n",
       "4     251.648     915.045  "
      ]
     },
     "execution_count": 19,
     "metadata": {},
     "output_type": "execute_result"
    }
   ],
   "source": [
    "df1.head()"
   ]
  },
  {
   "cell_type": "code",
   "execution_count": 11,
   "id": "36bab37b-732a-4f7a-bd4d-f14a2dc6245b",
   "metadata": {},
   "outputs": [],
   "source": [
    "# Define the center coordinates \n",
    "map_center = [df['ego_lat'].mean(), df['ego_lng'].mean()]\n",
    "\n",
    "my_map = folium.Map(location=map_center, zoom_start=12)\n"
   ]
  },
  {
   "cell_type": "code",
   "execution_count": 22,
   "id": "35343d8d-481f-4bb0-ad5f-8832819099c1",
   "metadata": {},
   "outputs": [
    {
     "data": {
      "text/plain": [
       "<folium.vector_layers.PolyLine at 0x1d962d78110>"
      ]
     },
     "execution_count": 22,
     "metadata": {},
     "output_type": "execute_result"
    }
   ],
   "source": [
    "# Ego trajectory\n",
    "folium.PolyLine(\n",
    "    list(zip(df['ego_lat'], df['ego_lng'])),\n",
    "    color='blue', weight=2.5, opacity=1\n",
    ").add_to(my_map)\n",
    "\n",
    "# Superimposed, highlighted segments which satisfied the condition:\n",
    "# Ego trajectory\n",
    "folium.PolyLine(\n",
    "    list(zip(df1['ego_lat'], df1['ego_lng'])),\n",
    "    color='yellow', weight=2.5, opacity=1\n",
    ").add_to(my_map)\n",
    "\n",
    "# A1 and A2 trajectories\n",
    "folium.PolyLine(\n",
    "    list(zip(df['a1_lat'], df['a1_lng'])),\n",
    "    color='green', weight=2.5, opacity=1\n",
    ").add_to(my_map)\n",
    "folium.PolyLine(\n",
    "    list(zip(df['a2_lat'], df['a2_lng'])),\n",
    "    color='red', weight=2.5, opacity=1\n",
    ").add_to(my_map)\n"
   ]
  },
  {
   "cell_type": "code",
   "execution_count": 23,
   "id": "4e367fb0-48d2-4d0b-ad39-2c7a2c597a31",
   "metadata": {},
   "outputs": [
    {
     "data": {
      "text/plain": [
       "<folium.map.Marker at 0x1d962b12fd0>"
      ]
     },
     "execution_count": 23,
     "metadata": {},
     "output_type": "execute_result"
    }
   ],
   "source": [
    "# Add car icon to ego\n",
    "car_icon = folium.features.CustomIcon(\"C:/Users/mikhe/OneDrive/Desktop/download.png\", icon_size=(25,25))\n",
    "\n",
    "folium.Marker(location=[43.6651347, -116.73921890223438], popup=\"Ego\", icon=car_icon).add_to(my_map)\n"
   ]
  },
  {
   "cell_type": "code",
   "execution_count": 24,
   "id": "8e8e2a77-034a-4c33-a216-403228ec32e9",
   "metadata": {},
   "outputs": [
    {
     "data": {
      "text/plain": [
       "<folium.vector_layers.Circle at 0x1d96ec71990>"
      ]
     },
     "execution_count": 24,
     "metadata": {},
     "output_type": "execute_result"
    }
   ],
   "source": [
    "# Final position of A1: 45.2521, -121.783\n",
    "# Final position of A2: 43.7358, -117.905\n",
    "\n",
    "# Add a Marker for circle 'C'\n",
    "folium.Marker(\n",
    "    location=[42.55029319411949, -108.10396510030051],\n",
    "    popup='Area C',\n",
    "    icon=folium.Icon(color='purple')\n",
    ").add_to(my_map)\n",
    "\n",
    "#Add a circle to represent the radius of Area C (adjust the radius value)\n",
    "folium.Circle(\n",
    "    location=[42.55029319411949, -108.10396510030051],\n",
    "    radius = 200000, \n",
    "    color = 'purple',\n",
    "    fill = False\n",
    ").add_to(my_map)\n"
   ]
  },
  {
   "cell_type": "code",
   "execution_count": 25,
   "id": "07d4bfdb-c2ca-47f6-9e40-d8210e6256fb",
   "metadata": {},
   "outputs": [
    {
     "data": {
      "text/plain": [
       "<folium.vector_layers.Circle at 0x1d96ec72250>"
      ]
     },
     "execution_count": 25,
     "metadata": {},
     "output_type": "execute_result"
    }
   ],
   "source": [
    "# Add a Marker for circle 'A1'\n",
    "folium.Marker(\n",
    "    location=[45.2521, -121.783],\n",
    "    popup='Area A1',\n",
    "    icon=folium.Icon(color='black')\n",
    ").add_to(my_map)\n",
    "\n",
    "#Add a circle to represent the radius of Area C (adjust the radius value)\n",
    "folium.Circle(\n",
    "    location=[45.2521, -121.783],\n",
    "    radius = 400000,  # In meters\n",
    "    color = 'black',\n",
    "    fill = False\n",
    ").add_to(my_map)\n"
   ]
  },
  {
   "cell_type": "code",
   "execution_count": 26,
   "id": "99426c33-cad1-4fdf-bd8e-0ceeaac9974d",
   "metadata": {},
   "outputs": [
    {
     "data": {
      "text/plain": [
       "<folium.vector_layers.Circle at 0x1d96ec72d90>"
      ]
     },
     "execution_count": 26,
     "metadata": {},
     "output_type": "execute_result"
    }
   ],
   "source": [
    "# Add a Marker for circle 'A2'\n",
    "folium.Marker(\n",
    "    location=[43.7358, -117.905],\n",
    "    popup='Area A2',\n",
    "    icon=folium.Icon(color='orange')\n",
    ").add_to(my_map)\n",
    "\n",
    "\n",
    "#Add a circle to represent the radius of Area C (adjust the radius value)\n",
    "folium.Circle(\n",
    "    location=[43.7358, -117.905],\n",
    "    radius = 400000, \n",
    "    color = 'orange', # In meters\n",
    "    fill = False\n",
    ").add_to(my_map)\n"
   ]
  },
  {
   "cell_type": "code",
   "execution_count": 27,
   "id": "285a3b7a-614e-46ad-8fab-7adde4681cbf",
   "metadata": {},
   "outputs": [],
   "source": [
    "my_map.save('my_map.html')"
   ]
  },
  {
   "cell_type": "code",
   "execution_count": null,
   "id": "b636b5f5-592d-4696-83f7-8e8298f3d727",
   "metadata": {},
   "outputs": [],
   "source": []
  }
 ],
 "metadata": {
  "kernelspec": {
   "display_name": "Python 3 (ipykernel)",
   "language": "python",
   "name": "python3"
  },
  "language_info": {
   "codemirror_mode": {
    "name": "ipython",
    "version": 3
   },
   "file_extension": ".py",
   "mimetype": "text/x-python",
   "name": "python",
   "nbconvert_exporter": "python",
   "pygments_lexer": "ipython3",
   "version": "3.11.5"
  }
 },
 "nbformat": 4,
 "nbformat_minor": 5
}
